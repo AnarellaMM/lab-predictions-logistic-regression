{
 "cells": [
  {
   "cell_type": "code",
   "execution_count": null,
   "id": "e11f0904-44c9-4a22-a312-c8c624328d36",
   "metadata": {},
   "outputs": [],
   "source": [
    "import pymysql\n",
    "from sqlalchemy import create_engine\n",
    "import pandas as pd\n",
    "import numpy as np\n",
    "from matplotlib import pyplot as plt\n",
    "import seaborn as sns\n",
    "from sklearn.metrics import confusion_matrix\n",
    "from sklearn.model_selection import train_test_split\n",
    "from sklearn.linear_model import LogisticRegression\n",
    "from sklearn.preprocessing import StandardScaler\n",
    "from sklearn.preprocessing import StandardScaler, OneHotEncoder\n",
    "from sklearn.compose import ColumnTransformer\n",
    "from sklearn.pipeline import Pipeline\n",
    "\n",
    "\n",
    "import getpass  # to get the password without showing the input\n",
    "password = getpass.getpass()"
   ]
  },
  {
   "cell_type": "code",
   "execution_count": null,
   "id": "b5dc48a7-431f-4688-85cd-5b031bc81314",
   "metadata": {},
   "outputs": [],
   "source": [
    "connection_string = 'mysql+pymysql://root:' + password + '@localhost/sakila'\n",
    "engine = create_engine(connection_string)"
   ]
  },
  {
   "cell_type": "markdown",
   "id": "671d7e5b-d27f-40cf-93e9-b5a71ec57ee4",
   "metadata": {},
   "source": [
    "NO ME FUNCIONA LA CONEXIÓN"
   ]
  },
  {
   "cell_type": "code",
   "execution_count": null,
   "id": "0201f392-ab0e-4cc4-9537-e2dd38dcf4a2",
   "metadata": {},
   "outputs": [],
   "source": [
    "query: SELECT\n",
    "    f.film_id,\n",
    "    f.title,\n",
    "    f.release_year,\n",
    "    f.rental_duration,\n",
    "    f.rental_rate,\n",
    "    f.length,\n",
    "    f.replacement_cost,\n",
    "    f.rating,\n",
    "    COUNT(r.rental_id) AS total_rentals\n",
    "FROM\n",
    "    film f\n",
    "LEFT JOIN\n",
    "    inventory i ON f.film_id = i.film_id\n",
    "LEFT JOIN\n",
    "    rental r ON i.inventory_id = r.inventory_id\n",
    "GROUP BY\n",
    "    f.film_id\n",
    "ORDER BY\n",
    "    total_rentals DESC;\n",
    "    \n",
    "data = pd.read_sql_query(query, engine)\n",
    "data"
   ]
  },
  {
   "cell_type": "code",
   "execution_count": null,
   "id": "4e22804c-d79a-4bcb-b830-96461afeb544",
   "metadata": {},
   "outputs": [],
   "source": [
    "data.shape, data.dtypes"
   ]
  },
  {
   "cell_type": "code",
   "execution_count": null,
   "id": "e851b096-30c5-4bc9-8baa-0c26160aae50",
   "metadata": {},
   "outputs": [],
   "source": [
    "data.isna().sum()"
   ]
  },
  {
   "cell_type": "code",
   "execution_count": null,
   "id": "02f784ba-fc55-4edc-abd0-ec69b3e0d2f5",
   "metadata": {},
   "outputs": [],
   "source": [
    "data.describe()"
   ]
  },
  {
   "cell_type": "code",
   "execution_count": null,
   "id": "d78d570e-da7f-4eb3-9ff1-7e779d9d2d80",
   "metadata": {},
   "outputs": [],
   "source": [
    "categorical_cols = ['rating'] \n",
    "numerical_cols = ['rental_duration', 'rental_rate', 'replacement_cost']"
   ]
  },
  {
   "cell_type": "code",
   "execution_count": null,
   "id": "f5b99104-a25b-4a6a-b62b-f3435192a4f0",
   "metadata": {},
   "outputs": [],
   "source": [
    "categorical_transformer = Pipeline(steps=[\n",
    "    ('onehot', OneHotEncoder())\n",
    "])\n",
    "\n",
    "numerical_transformer = Pipeline(steps=[\n",
    "    ('scaler', StandardScaler())\n",
    "])"
   ]
  },
  {
   "cell_type": "code",
   "execution_count": null,
   "id": "3a7bf6ec-e604-4bcd-8f6f-9e49726ce890",
   "metadata": {},
   "outputs": [],
   "source": [
    "preprocessor = ColumnTransformer(\n",
    "    transformers=[\n",
    "        ('cat', categorical_transformer, categorical_cols),\n",
    "        ('num', numerical_transformer, numerical_cols)\n",
    "    ])"
   ]
  },
  {
   "cell_type": "code",
   "execution_count": null,
   "id": "dc02b88b-d7a6-4827-8f09-c9354b6b1052",
   "metadata": {},
   "outputs": [],
   "source": [
    "transformed_data = preprocessor.fit_transform(df)"
   ]
  },
  {
   "cell_type": "code",
   "execution_count": null,
   "id": "c212637d-4ecd-4c84-9a5a-1e1af7c43c3e",
   "metadata": {},
   "outputs": [],
   "source": [
    "transformed_df = pd.DataFrame(transformed_data, columns=categorical_cols + numerical_cols)"
   ]
  },
  {
   "cell_type": "code",
   "execution_count": null,
   "id": "229fea92-4a79-49cf-b0e9-6a74643cc727",
   "metadata": {},
   "outputs": [],
   "source": [
    "print(transformed_df.head())"
   ]
  },
  {
   "cell_type": "code",
   "execution_count": null,
   "id": "046dc97a-aaeb-4107-9fd5-8c3dc47c6c71",
   "metadata": {},
   "outputs": [],
   "source": [
    "from datetime import datetime, timedelta\n",
    "\n",
    "# Calculate the first day of the previous month\n",
    "previous_month_start = datetime.today().replace(day=1) - timedelta(days=1)\n",
    "previous_month_start = previous_month_start.replace(day=1)\n",
    "\n",
    "# Calculate the last day of the previous month\n",
    "previous_month_end = previous_month_start.replace(day=1) - timedelta(days=1)\n",
    "\n",
    "# Filter rentals for the previous month\n",
    "rentals_last_month = df[(df['rental_date'] >= previous_month_start) & (df['rental_date'] <= previous_month_end)]\n",
    "\n",
    "# Create a set of film_ids that were rented last month\n",
    "rented_last_month_set = set(rentals_last_month['film_id'])\n",
    "\n",
    "# Create a new column indicating whether the film was rented last month or not\n",
    "df['rented_last_month'] = df['film_id'].apply(lambda x: x in rented_last_month_set)\n",
    "\n",
    "\n",
    "print(df.head())"
   ]
  },
  {
   "cell_type": "code",
   "execution_count": null,
   "id": "b87a2420-8a2b-448e-80df-1df9ca297cc5",
   "metadata": {},
   "outputs": [],
   "source": [
    "eatures = transformed_df.drop('rented_last_month', axis=1)\n",
    "target = transformed_df['rented_last_month']\n",
    "\n",
    "X_train, X_test, y_train, y_test = train_test_split(features, target, test_size=0.2, random_state=42)\n",
    "\n",
    "\n",
    "model = LogisticRegression()\n",
    "\n",
    "\n",
    "model.fit(X_train, y_train)\n",
    "\n",
    "\n",
    "predictions = model.predict(X_test)\n",
    "\n",
    "\n",
    "print(classification_report(y_test, predictions))"
   ]
  },
  {
   "cell_type": "code",
   "execution_count": null,
   "id": "4ded873f-6977-44e0-bcdd-99af3687c124",
   "metadata": {},
   "outputs": [],
   "source": []
  },
  {
   "cell_type": "code",
   "execution_count": null,
   "id": "bfff87ee-e3bb-4c74-938d-7fe032b7efe4",
   "metadata": {},
   "outputs": [],
   "source": []
  },
  {
   "cell_type": "code",
   "execution_count": null,
   "id": "b843e218-bffa-4c9a-90f1-10615127c58f",
   "metadata": {},
   "outputs": [],
   "source": []
  }
 ],
 "metadata": {
  "kernelspec": {
   "display_name": "Python 3 (ipykernel)",
   "language": "python",
   "name": "python3"
  },
  "language_info": {
   "codemirror_mode": {
    "name": "ipython",
    "version": 3
   },
   "file_extension": ".py",
   "mimetype": "text/x-python",
   "name": "python",
   "nbconvert_exporter": "python",
   "pygments_lexer": "ipython3",
   "version": "3.10.9"
  }
 },
 "nbformat": 4,
 "nbformat_minor": 5
}
